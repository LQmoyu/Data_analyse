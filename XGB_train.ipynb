{
 "cells": [
  {
   "cell_type": "code",
   "execution_count": 19,
   "metadata": {},
   "outputs": [],
   "source": [
    "# 基于XGBoost原生接口的分类\n",
    "from sklearn.datasets import load_iris\n",
    "import xgboost as xgb\n",
    "from xgboost import plot_importance\n",
    "from matplotlib import pyplot as plt\n",
    "from sklearn.model_selection import train_test_split\n",
    "from sklearn.metrics import accuracy_score  # 准确率\n",
    "import numpy as np\n",
    "import urllib.request\n",
    "import os\n",
    "import pandas as pd\n",
    "import torch\n",
    "import torch.nn as nn\n",
    "import torch.optim as optim\n",
    "import sklearn\n",
    "import joblib\n",
    "import hdf5storage\n",
    "import itertools\n",
    "import h5py\n",
    "from torch.utils.data import DataLoader, Dataset\n",
    "import seaborn as sns\n",
    "from tsmoothie.utils_func import sim_randomwalk\n",
    "from tsmoothie.smoother import LowessSmoother\n",
    "from tsmoothie.utils_func import sim_seasonal_data\n",
    "from tsmoothie.smoother import DecomposeSmoother\n",
    "from sklearn import preprocessing\n",
    "from sklearn.ensemble import RandomForestClassifier\n",
    "from sklearn.tree import DecisionTreeClassifier\n",
    "from sklearn.model_selection import train_test_split\n",
    "from sklearn.metrics import confusion_matrix, accuracy_score, f1_score, recall_score\n",
    "from sklearn.model_selection import train_test_split\n",
    "import matplotlib.pyplot as plt\n",
    "from sklearn.feature_selection import RFE\n",
    "from sklearn.model_selection import GridSearchCV\n",
    "from sklearn.preprocessing import StandardScaler\n",
    "from data_cul import  merge_data\n",
    "import joblib\n",
    "import pickle\n",
    "\n",
    "plt.rcParams['font.sans-serif']=['SimHei']  # 用来正常显示中文标签\n",
    "plt.rcParams['axes.unicode_minus']=False  # 用来正常显示负号"
   ]
  },
  {
   "cell_type": "code",
   "execution_count": 2,
   "metadata": {},
   "outputs": [],
   "source": [
    "def smooth(data):\n",
    "    # operate smoothing\n",
    "    #参数整定\n",
    "    smoother = DecomposeSmoother(smooth_type='lowess', periods=50,\n",
    "                                smooth_fraction=0.2)\n",
    "    smoother.smooth(data)\n",
    "    low, up = smoother.get_intervals('sigma_interval')\n",
    "    return smoother.smooth_data # 处理后的数据\n",
    "\n",
    "def cul_data(path):\n",
    "    \"\"\"\n",
    "    cul_data处理\n",
    "\n",
    "    path:  数据所在的文件路径\n",
    "\n",
    "    return: 返回值是处理后的结果\n",
    "    \"\"\"\n",
    "    num = int(path[-5])  # 读取文件命名\n",
    "    f = hdf5storage.loadmat(path)\n",
    "    if num == 0:\n",
    "        element_name = 'MM_multi_MA_'\n",
    "    else:\n",
    "        element_name = 'MM_multi_MA_0'\n",
    "\n",
    "    src_data = np.array(f[element_name + str(num)])\n",
    "\n",
    "    ## 阵元归一\n",
    "    divisor = src_data[0,:]\n",
    "\n",
    "    divisor = divisor[np.newaxis,:]\n",
    "    # print(divisor.shape)\n",
    "\n",
    "    temp_data = src_data / divisor\n",
    "\n",
    "    num_cols = temp_data.shape[1]\n",
    "    k = 1000\n",
    "    random_cols = np.random.choice(num_cols, k, replace=False)\n",
    "    sm_data = temp_data[:,random_cols]\n",
    "    # return sm_data\n",
    "    return temp_data\n",
    "\n",
    "def add_label(data, label):\n",
    "    '''\n",
    "    add_label:\n",
    "\n",
    "    data:原始数据\n",
    "\n",
    "    label: 标签\n",
    "    \n",
    "    return: \n",
    "    '''\n",
    "    news_row = np.array([label] *data.shape[1])\n",
    "\n",
    "    arr = np.vstack((data, news_row))\n",
    "    \n",
    "    return arr\n",
    "\n",
    "def handle_data():\n",
    "    '''\n",
    "        return: 整个数据集 滤波后的数据\n",
    "    '''\n",
    "    path = ['../data/val_All_MM_MA_0.mat', '../data/val_All_MM_MA_04.mat', '../data/val_All_MM_MA_07.mat']\n",
    "\n",
    "    k = 0\n",
    "    all_data_test = []\n",
    "    for i in path:\n",
    "        temp_data = cul_data(i)\n",
    "        # temp_data = smooth(temp_data)\n",
    "        all_data_test.append(add_label(temp_data, k))\n",
    "        k = k+1\n",
    "    return all_data_test\n",
    "\n",
    "def merge_data(data):\n",
    "    '''\n",
    "    data: 传入列表数据\n",
    "    return: 合并后的数组 arr\n",
    "    '''\n",
    "    k = 10000  ## 取前一万个数据\n",
    "\n",
    "    num_cols = data[0].shape[1]\n",
    "\n",
    "    random_cols = np.random.choice(num_cols, k, replace=False)\n",
    "    temp_data = data[0][:,random_cols]\n",
    "\n",
    "    for i in range(1, len(data)):\n",
    "        num_cols = data[i].shape[1]\n",
    "\n",
    "        random_cols = np.random.choice(num_cols, k, replace=False)\n",
    "        merge_arr = np.concatenate((temp_data, data[i][:,random_cols]), axis=1)\n",
    "        temp_data = merge_arr\n",
    "\n",
    "    return temp_data\n"
   ]
  },
  {
   "cell_type": "code",
   "execution_count": 13,
   "metadata": {},
   "outputs": [],
   "source": [
    "temp_val_data = handle_data()\n",
    "\n",
    "all_data = merge_data(temp_val_data)\n",
    "\n",
    "Labels = all_data[-1,:].T\n",
    "\n",
    "# all_Features = all_data[:-1, :]\n",
    "all_Features = smooth(all_data[:-1, :1000])\n",
    "\n",
    "i = 1000\n",
    "while i < all_data.shape[1] :\n",
    "    temp_Features = smooth(all_data[:-1,i:i+1000])\n",
    "    all_Features = np.concatenate((all_Features, temp_Features),axis=1)\n",
    "    i += 1000"
   ]
  },
  {
   "cell_type": "code",
   "execution_count": 14,
   "metadata": {},
   "outputs": [],
   "source": [
    "x_data, y_data = all_Features.T, Labels\n",
    "x_train, x_test, y_train, y_test = train_test_split(x_data, y_data, test_size=0.2, random_state=1234565)  # 数据集分割"
   ]
  },
  {
   "cell_type": "code",
   "execution_count": 15,
   "metadata": {},
   "outputs": [],
   "source": [
    "params = {\n",
    "    'booster': 'gbtree',\n",
    "    'objective': 'multi:softmax',\n",
    "    'num_class': 3,\n",
    "    'gamma': 0.1,\n",
    "    'max_depth': 6,\n",
    "    'lambda': 2,\n",
    "    'subsample': 0.7,\n",
    "    'colsample_bytree': 0.7,\n",
    "    'min_child_weight': 3,\n",
    "    'silent': 1,\n",
    "    'eta': 0.1,\n",
    "    'seed': 1000,\n",
    "    'nthread': 4,\n",
    "}"
   ]
  },
  {
   "cell_type": "code",
   "execution_count": 16,
   "metadata": {},
   "outputs": [
    {
     "name": "stdout",
     "output_type": "stream",
     "text": [
      "[20:01:41] WARNING: C:\\buildkite-agent\\builds\\buildkite-windows-cpu-autoscaling-group-i-0fdc6d574b9c0d168-1\\xgboost\\xgboost-ci-windows\\src\\learner.cc:767: \n",
      "Parameters: { \"silent\" } are not used.\n",
      "\n"
     ]
    }
   ],
   "source": [
    "plst = params.items()\n",
    "dtrain = xgb.DMatrix(x_train, y_train)  # 生成数据集格式\n",
    "model = xgb.train(params,\n",
    "                  dtrain,  # 训练的数据\n",
    "                  num_boost_round=500  # 提升迭代的个数\n",
    "                  )  # xgboost模型训练"
   ]
  },
  {
   "cell_type": "code",
   "execution_count": 17,
   "metadata": {},
   "outputs": [
    {
     "name": "stdout",
     "output_type": "stream",
     "text": [
      "accuarcy: 95.88%\n"
     ]
    },
    {
     "data": {
      "image/png": "[encoded data removed]",
      "text/plain": [
       "<Figure size 640x480 with 1 Axes>"
      ]
     },
     "metadata": {},
     "output_type": "display_data"
    }
   ],
   "source": [
    "# 对测试集进行预测\n",
    "dtest = xgb.DMatrix(x_test)\n",
    "y_pred = model.predict(dtest)\n",
    "\n",
    "# 计算准确率\n",
    "accuracy = accuracy_score(y_test, y_pred)\n",
    "print(\"accuarcy: %.2f%%\" % (accuracy * 100.0))\n",
    "\n",
    "# 显示重要特征\n",
    "plot_importance(model)\n",
    "plt.show()"
   ]
  },
  {
   "cell_type": "code",
   "execution_count": 25,
   "metadata": {},
   "outputs": [],
   "source": [
    "pickle.dump(model, open('./model/XGB_model_{:.3f}.dat'.format(accuracy), 'wb'))"
   ]
  }
 ],
 "metadata": {
  "kernelspec": {
   "display_name": "lqpytorch",
   "language": "python",
   "name": "python3"
  },
  "language_info": {
   "codemirror_mode": {
    "name": "ipython",
    "version": 3
   },
   "file_extension": ".py",
   "mimetype": "text/x-python",
   "name": "python",
   "nbconvert_exporter": "python",
   "pygments_lexer": "ipython3",
   "version": "3.9.16"
  },
  "orig_nbformat": 4
 },
 "nbformat": 4,
 "nbformat_minor": 2
}
