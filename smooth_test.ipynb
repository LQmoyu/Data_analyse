{
 "cells": [
  {
   "cell_type": "code",
   "execution_count": 1,
   "metadata": {},
   "outputs": [],
   "source": [
    "import numpy as np\n",
    "import urllib.request\n",
    "import os\n",
    "import pandas as pd\n",
    "import torch\n",
    "import torch.nn as nn\n",
    "import torch.optim as optim\n",
    "import sklearn\n",
    "import joblib\n",
    "import hdf5storage\n",
    "import itertools\n",
    "import h5py\n",
    "from torch.utils.data import DataLoader, Dataset\n",
    "import seaborn as sns\n",
    "from tsmoothie.utils_func import sim_randomwalk\n",
    "from tsmoothie.smoother import LowessSmoother\n",
    "from tsmoothie.utils_func import sim_seasonal_data\n",
    "from tsmoothie.smoother import DecomposeSmoother\n",
    "from sklearn import preprocessing\n",
    "from sklearn.ensemble import RandomForestClassifier\n",
    "from sklearn.tree import DecisionTreeClassifier\n",
    "from sklearn.model_selection import train_test_split, GridSearchCV\n",
    "from sklearn.metrics import confusion_matrix, accuracy_score, f1_score, recall_score\n",
    "import matplotlib.pyplot as plt\n",
    "from sklearn.feature_selection import RFE\n",
    "from sklearn.model_selection import GridSearchCV\n",
    "from sklearn.preprocessing import StandardScaler\n",
    "\n",
    "plt.rcParams['font.sans-serif']=['SimHei']  # 用来正常显示中文标签\n",
    "plt.rcParams['axes.unicode_minus']=False  # 用来正常显示负号"
   ]
  },
  {
   "cell_type": "code",
   "execution_count": 2,
   "metadata": {},
   "outputs": [],
   "source": [
    "def smooth(data):\n",
    "    # operate smoothing\n",
    "    #参数整定\n",
    "    smoother = DecomposeSmoother(smooth_type='lowess', periods=50,\n",
    "                                smooth_fraction=0.2)\n",
    "    smoother.smooth(data)\n",
    "    low, up = smoother.get_intervals('sigma_interval')\n",
    "    return smoother.smooth_data # 处理后的数据\n",
    "\n",
    "\n",
    "def cul_data(path):\n",
    "    \"\"\"\n",
    "    cul_data处理\n",
    "\n",
    "    path:  数据所在的文件路径\n",
    "\n",
    "    return: 返回值是处理后的结果\n",
    "    \"\"\"\n",
    "    num = int(path[-5])  # 读取文件命名\n",
    "    f = hdf5storage.loadmat(path)\n",
    "    if num == 0:\n",
    "        element_name = 'MM_multi_MA_'\n",
    "    else:\n",
    "        element_name = 'MM_multi_MA_0'\n",
    "\n",
    "    src_data = np.array(f[element_name + str(num)])\n",
    "\n",
    "    ## 阵元归一\n",
    "    divisor = src_data[0,:]\n",
    "\n",
    "    divisor = divisor[np.newaxis,:]\n",
    "    # print(divisor.shape)\n",
    "\n",
    "    temp_data = src_data / divisor\n",
    "\n",
    "    num_cols = temp_data.shape[1]\n",
    "    k = 1000\n",
    "    random_cols = np.random.choice(num_cols, k, replace=False)\n",
    "    sm_data = temp_data[:,random_cols]\n",
    "    # return sm_data\n",
    "    return temp_data\n",
    "\n",
    "def add_label(data, label):\n",
    "    '''\n",
    "    add_label:\n",
    "\n",
    "    data:原始数据\n",
    "\n",
    "    label: 标签\n",
    "    \n",
    "    return: \n",
    "    '''\n",
    "    news_row = np.array([label] *data.shape[1])\n",
    "\n",
    "    arr = np.vstack((data, news_row))\n",
    "    \n",
    "    return arr\n",
    "\n",
    "def handle_data():\n",
    "    '''\n",
    "        return: 整个数据集 滤波后的数据\n",
    "    '''\n",
    "    path = ['../data/All_MM_MA_0.mat', '../data/All_MM_MA_04.mat', '../data/All_MM_MA_07.mat']\n",
    "\n",
    "    k = 0\n",
    "    all_data_test = []\n",
    "    for i in path:\n",
    "        temp_data = cul_data(i)\n",
    "        # temp_data = smooth(temp_data)\n",
    "        all_data_test.append(add_label(temp_data, k))\n",
    "        k = k+1\n",
    "    return all_data_test\n",
    "\n",
    "def merge_data(data):\n",
    "    '''\n",
    "    data: 传入列表数据\n",
    "    return: 合并后的数组 arr\n",
    "    '''\n",
    "    k = 10000  ## 取前一万个数据\n",
    "\n",
    "    num_cols = data[0].shape[1]\n",
    "\n",
    "    random_cols = np.random.choice(num_cols, k, replace=False)\n",
    "    temp_data = data[0][:,random_cols]\n",
    "\n",
    "    for i in range(1, len(data)):\n",
    "        num_cols = data[i].shape[1]\n",
    "\n",
    "        random_cols = np.random.choice(num_cols, k, replace=False)\n",
    "        merge_arr = np.concatenate((temp_data, data[i][:,random_cols]), axis=1)\n",
    "        temp_data = merge_arr\n",
    "\n",
    "    return temp_data\n"
   ]
  },
  {
   "cell_type": "code",
   "execution_count": 3,
   "metadata": {},
   "outputs": [],
   "source": [
    "all_data_temp = handle_data()\n",
    "all_data = merge_data(all_data_temp)\n",
    "\n",
    "Labels = all_data[-1,:].T\n",
    "\n",
    "# all_Features = all_data[:-1, :]\n",
    "all_Features = smooth(all_data[:-1, :1000])\n",
    "\n",
    "i = 1000\n",
    "while i < all_data.shape[1] :\n",
    "    temp_Features = smooth(all_data[:-1,i:i+1000])\n",
    "    all_Features = np.concatenate((all_Features, temp_Features),axis=1)\n",
    "    i += 1000"
   ]
  },
  {
   "cell_type": "code",
   "execution_count": 15,
   "metadata": {},
   "outputs": [
    {
     "data": {
      "text/html": [
       "<style>#sk-container-id-3 {color: black;}#sk-container-id-3 pre{padding: 0;}#sk-container-id-3 div.sk-toggleable {background-color: white;}#sk-container-id-3 label.sk-toggleable__label {cursor: pointer;display: block;width: 100%;margin-bottom: 0;padding: 0.3em;box-sizing: border-box;text-align: center;}#sk-container-id-3 label.sk-toggleable__label-arrow:before {content: \"▸\";float: left;margin-right: 0.25em;color: #696969;}#sk-container-id-3 label.sk-toggleable__label-arrow:hover:before {color: black;}#sk-container-id-3 div.sk-estimator:hover label.sk-toggleable__label-arrow:before {color: black;}#sk-container-id-3 div.sk-toggleable__content {max-height: 0;max-width: 0;overflow: hidden;text-align: left;background-color: #f0f8ff;}#sk-container-id-3 div.sk-toggleable__content pre {margin: 0.2em;color: black;border-radius: 0.25em;background-color: #f0f8ff;}#sk-container-id-3 input.sk-toggleable__control:checked~div.sk-toggleable__content {max-height: 200px;max-width: 100%;overflow: auto;}#sk-container-id-3 input.sk-toggleable__control:checked~label.sk-toggleable__label-arrow:before {content: \"▾\";}#sk-container-id-3 div.sk-estimator input.sk-toggleable__control:checked~label.sk-toggleable__label {background-color: #d4ebff;}#sk-container-id-3 div.sk-label input.sk-toggleable__control:checked~label.sk-toggleable__label {background-color: #d4ebff;}#sk-container-id-3 input.sk-hidden--visually {border: 0;clip: rect(1px 1px 1px 1px);clip: rect(1px, 1px, 1px, 1px);height: 1px;margin: -1px;overflow: hidden;padding: 0;position: absolute;width: 1px;}#sk-container-id-3 div.sk-estimator {font-family: monospace;background-color: #f0f8ff;border: 1px dotted black;border-radius: 0.25em;box-sizing: border-box;margin-bottom: 0.5em;}#sk-container-id-3 div.sk-estimator:hover {background-color: #d4ebff;}#sk-container-id-3 div.sk-parallel-item::after {content: \"\";width: 100%;border-bottom: 1px solid gray;flex-grow: 1;}#sk-container-id-3 div.sk-label:hover label.sk-toggleable__label {background-color: #d4ebff;}#sk-container-id-3 div.sk-serial::before {content: \"\";position: absolute;border-left: 1px solid gray;box-sizing: border-box;top: 0;bottom: 0;left: 50%;z-index: 0;}#sk-container-id-3 div.sk-serial {display: flex;flex-direction: column;align-items: center;background-color: white;padding-right: 0.2em;padding-left: 0.2em;position: relative;}#sk-container-id-3 div.sk-item {position: relative;z-index: 1;}#sk-container-id-3 div.sk-parallel {display: flex;align-items: stretch;justify-content: center;background-color: white;position: relative;}#sk-container-id-3 div.sk-item::before, #sk-container-id-3 div.sk-parallel-item::before {content: \"\";position: absolute;border-left: 1px solid gray;box-sizing: border-box;top: 0;bottom: 0;left: 50%;z-index: -1;}#sk-container-id-3 div.sk-parallel-item {display: flex;flex-direction: column;z-index: 1;position: relative;background-color: white;}#sk-container-id-3 div.sk-parallel-item:first-child::after {align-self: flex-end;width: 50%;}#sk-container-id-3 div.sk-parallel-item:last-child::after {align-self: flex-start;width: 50%;}#sk-container-id-3 div.sk-parallel-item:only-child::after {width: 0;}#sk-container-id-3 div.sk-dashed-wrapped {border: 1px dashed gray;margin: 0 0.4em 0.5em 0.4em;box-sizing: border-box;padding-bottom: 0.4em;background-color: white;}#sk-container-id-3 div.sk-label label {font-family: monospace;font-weight: bold;display: inline-block;line-height: 1.2em;}#sk-container-id-3 div.sk-label-container {text-align: center;}#sk-container-id-3 div.sk-container {/* jupyter's `normalize.less` sets `[hidden] { display: none; }` but bootstrap.min.css set `[hidden] { display: none !important; }` so we also need the `!important` here to be able to override the default hidden behavior on the sphinx rendered scikit-learn.org. See: https://github.com/scikit-learn/scikit-learn/issues/21755 */display: inline-block !important;position: relative;}#sk-container-id-3 div.sk-text-repr-fallback {display: none;}</style><div id=\"sk-container-id-3\" class=\"sk-top-container\"><div class=\"sk-text-repr-fallback\"><pre>RandomForestClassifier(n_estimators=200)</pre><b>In a Jupyter environment, please rerun this cell to show the HTML representation or trust the notebook. <br />On GitHub, the HTML representation is unable to render, please try loading this page with nbviewer.org.</b></div><div class=\"sk-container\" hidden><div class=\"sk-item\"><div class=\"sk-estimator sk-toggleable\"><input class=\"sk-toggleable__control sk-hidden--visually\" id=\"sk-estimator-id-3\" type=\"checkbox\" checked><label for=\"sk-estimator-id-3\" class=\"sk-toggleable__label sk-toggleable__label-arrow\">RandomForestClassifier</label><div class=\"sk-toggleable__content\"><pre>RandomForestClassifier(n_estimators=200)</pre></div></div></div></div></div>"
      ],
      "text/plain": [
       "RandomForestClassifier(n_estimators=200)"
      ]
     },
     "execution_count": 15,
     "metadata": {},
     "output_type": "execute_result"
    }
   ],
   "source": [
    "Features = all_Features.T\n",
    "\n",
    "X_train, X_test, y_train, y_test = train_test_split(Features, Labels, test_size=0.2, random_state=42)\n",
    "rf_clf = RandomForestClassifier(n_estimators=200)\n",
    "rf_clf.fit(X_train, y_train)"
   ]
  },
  {
   "cell_type": "code",
   "execution_count": 16,
   "metadata": {},
   "outputs": [
    {
     "data": {
      "text/plain": [
       "0.9416666666666667"
      ]
     },
     "execution_count": 16,
     "metadata": {},
     "output_type": "execute_result"
    }
   ],
   "source": [
    "y_pred = rf_clf.predict(X_test)\n",
    "accuracy_all = accuracy_score(y_pred=y_pred, y_true=y_test)\n",
    "accuracy_all"
   ]
  },
  {
   "cell_type": "code",
   "execution_count": 17,
   "metadata": {},
   "outputs": [
    {
     "data": {
      "text/plain": [
       "3"
      ]
     },
     "execution_count": 17,
     "metadata": {},
     "output_type": "execute_result"
    }
   ],
   "source": [
    "num_classes = len(torch.unique(torch.Tensor(Labels)))\n",
    "num_classes"
   ]
  },
  {
   "cell_type": "code",
   "execution_count": 18,
   "metadata": {},
   "outputs": [
    {
     "data": {
      "image/png": "[encoded data removed]",
      "text/plain": [
       "<Figure size 500x500 with 2 Axes>"
      ]
     },
     "metadata": {},
     "output_type": "display_data"
    }
   ],
   "source": [
    "def cnf_matrix_plotter(cm, classes, accuracy, cmap=plt.cm.Blues):\n",
    "    \"\"\"\n",
    "    传入混淆矩阵和标签名称，绘制混淆矩阵\n",
    "    \"\"\"\n",
    "    plt.figure(figsize=(5, 5))\n",
    "\n",
    "    plt.imshow(cm, interpolation='nearest', cmap=cmap)\n",
    "    # plt.colorbar() # 色条\n",
    "    tick_marks = np.arange(classes)\n",
    "\n",
    "    plt.title('confusion_matrix-rf-all-{:.3f}.pdf'.format(accuracy), fontsize=12)\n",
    "    # plt.title('confusion_matrix-rf_no_filter-{:.3f}.pdf'.format(accuracy), fontsize=12)\n",
    "\n",
    "    plt.colorbar()\n",
    "    plt.xlabel('Predicted Class')\n",
    "    plt.ylabel('True Class')\n",
    "    plt.tick_params(labelsize=10)  # 设置类别文字大小\n",
    "    plt.xticks(tick_marks)  # x轴文字旋转\n",
    "    plt.yticks(tick_marks)\n",
    "\n",
    "    # 写数�?\n",
    "    threshold = cm.max() / 2.\n",
    "    for i, j in itertools.product(range(cm.shape[0]), range(cm.shape[1])):\n",
    "        plt.text(j, i, cm[i, j],\n",
    "                 horizontalalignment=\"center\",\n",
    "                 color=\"white\" if cm[i, j] > threshold else \"black\",\n",
    "                 fontsize=8)\n",
    "\n",
    "    plt.tight_layout()\n",
    "\n",
    "    plt.savefig('confusion_matrix-rf-all-{:.3f}.pdf'.format(accuracy), dpi=300)  # 保存图像\n",
    "\n",
    "    # plt.savefig('confusion_matrix-rf_no_filter-{:.3f}.pdf'.format(accuracy), dpi=300)  # 保存图像\n",
    "    plt.show()\n",
    "\n",
    "conf_matrix = confusion_matrix(y_test, y_pred)\n",
    "cnf_matrix_plotter(conf_matrix, num_classes,accuracy_all,cmap='BuPu')"
   ]
  },
  {
   "cell_type": "code",
   "execution_count": 19,
   "metadata": {},
   "outputs": [
    {
     "name": "stdout",
     "output_type": "stream",
     "text": [
      "[[2002    0    0]\n",
      " [   0 1753  243]\n",
      " [   0  107 1895]]\n"
     ]
    }
   ],
   "source": [
    "joblib.dump(rf_clf, './model/rfc_3_model-{:.3f}.model'.format(accuracy_all))\n",
    "print(conf_matrix)"
   ]
  },
  {
   "cell_type": "code",
   "execution_count": 28,
   "metadata": {},
   "outputs": [
    {
     "name": "stdout",
     "output_type": "stream",
     "text": [
      "Accuracy:93.717\n"
     ]
    }
   ],
   "source": [
    "rcf_test = joblib.load(\"./model/rfc_3_model-0.937.model\")\n",
    "\n",
    "X_train, X_test, y_train, y_test = train_test_split(Features, Labels, test_size=0.2, random_state=42)\n",
    "y_pred = rcf_test.predict(X_test)\n",
    "\n",
    "accuracy = np.mean(y_pred == y_test)\n",
    "print(\"Accuracy:{:.3f}\".format(accuracy*100))"
   ]
  },
  {
   "cell_type": "code",
   "execution_count": null,
   "metadata": {},
   "outputs": [],
   "source": []
  }
 ],
 "metadata": {
  "kernelspec": {
   "display_name": "lqpytorch",
   "language": "python",
   "name": "python3"
  },
  "language_info": {
   "codemirror_mode": {
    "name": "ipython",
    "version": 3
   },
   "file_extension": ".py",
   "mimetype": "text/x-python",
   "name": "python",
   "nbconvert_exporter": "python",
   "pygments_lexer": "ipython3",
   "version": "3.9.16"
  },
  "orig_nbformat": 4
 },
 "nbformat": 4,
 "nbformat_minor": 2
}
